{
 "cells": [
  {
   "cell_type": "code",
   "execution_count": 1,
   "metadata": {},
   "outputs": [],
   "source": [
    "import pandas as pd\n",
    "from sklearn.model_selection import train_test_split\n",
    "from sklearn.feature_extraction.text import TfidfVectorizer\n",
    "from sklearn.naive_bayes import MultinomialNB, GaussianNB\n",
    "from sklearn.tree import DecisionTreeClassifier\n",
    "from sklearn.feature_selection import SelectKBest, chi2\n",
    "from sklearn.metrics import accuracy_score, classification_report, confusion_matrix\n",
    "import string\n",
    "from nltk.stem import PorterStemmer\n",
    "import re\n",
    "import time\n"
   ]
  },
  {
   "cell_type": "code",
   "execution_count": 2,
   "metadata": {},
   "outputs": [
    {
     "name": "stdout",
     "output_type": "stream",
     "text": [
      "                                    email_content label\n",
      "0        Hello, I hope you're having a great day!   ham\n",
      "1    Win a free iPhone now by clicking this link!  spam\n",
      "2        Meeting scheduled for tomorrow at 10 AM.   ham\n",
      "3  Congratulations! You've won a $1000 gift card.  spam\n",
      "4    Are you available for a call this afternoon?   ham\n",
      "Number of features in the dataset: 2\n"
     ]
    }
   ],
   "source": [
    "# Load the data from the CSV file\n",
    "data = pd.read_csv(\"spamEmail.csv\")\n",
    "# Print the first few rows of the data\n",
    "print(data.head())\n",
    "\n",
    "num_features = data.shape[1]\n",
    "print(f\"Number of features in the dataset: {num_features}\")\n"
   ]
  },
  {
   "cell_type": "code",
   "execution_count": 3,
   "metadata": {},
   "outputs": [
    {
     "name": "stdout",
     "output_type": "stream",
     "text": [
      "email_content    0\n",
      "label            0\n",
      "dtype: int64\n",
      "Missing values summary:\n",
      "email_content    0\n",
      "label            0\n",
      "dtype: int64\n"
     ]
    }
   ],
   "source": [
    "print(data.isnull().sum())  # This will print the count of missing values per column\n",
    "\n",
    "# Pre-processing function\n",
    "def preprocess_text(text):\n",
    "    text = text.lower()\n",
    "    text = re.sub(f\"[^{string.printable}]\", \"\", text)\n",
    "    stemmer = PorterStemmer()\n",
    "    text = ' '.join([stemmer.stem(word) for word in text.split()])\n",
    "    return text\n",
    "\n",
    "data[\"email_content\"] = data[\"email_content\"].apply(preprocess_text)\n",
    "\n",
    "# Check for missing values\n",
    "print(\"Missing values summary:\")\n",
    "print(data.isnull().sum())  # This will print the count of missing values per column\n"
   ]
  },
  {
   "cell_type": "code",
   "execution_count": 4,
   "metadata": {},
   "outputs": [],
   "source": [
    "# Split data into training and testing sets (70% training, 30% testing)\n",
    "X_train, X_test, y_train, y_test = train_test_split(data[\"email_content\"], data[\"label\"], test_size=0.3)\n"
   ]
  },
  {
   "cell_type": "code",
   "execution_count": 5,
   "metadata": {},
   "outputs": [],
   "source": [
    "# Feature Engineering (TF-IDF Vectorization)\n",
    "vectorizer = TfidfVectorizer(max_features=2000, sublinear_tf=True)\n",
    "X_train_tfidf = vectorizer.fit_transform(X_train)\n",
    "X_test_tfidf = vectorizer.transform(X_test)\n",
    "\n"
   ]
  },
  {
   "cell_type": "code",
   "execution_count": 7,
   "metadata": {},
   "outputs": [],
   "source": [
    "# Feature Selection using SelectKBest with chi2\n",
    "selector = SelectKBest(chi2, k=150)  \n",
    "X_train_features = selector.fit_transform(X_train_tfidf, y_train)\n",
    "X_test_features = selector.transform(X_test_tfidf)"
   ]
  },
  {
   "cell_type": "code",
   "execution_count": 19,
   "metadata": {},
   "outputs": [
    {
     "name": "stdout",
     "output_type": "stream",
     "text": [
      "Naive Bayes Accuracy: 0.9285714285714286\n",
      "Naive Bayes Error Rate: 0.0714285714285714\n",
      "Naive Bayes Execution Time: 0.024150609970092773 seconds\n",
      "Naive Bayes Classification Report:\n",
      "              precision    recall  f1-score   support\n",
      "\n",
      "         ham       0.93      0.93      0.93        15\n",
      "        spam       0.92      0.92      0.92        13\n",
      "\n",
      "    accuracy                           0.93        28\n",
      "   macro avg       0.93      0.93      0.93        28\n",
      "weighted avg       0.93      0.93      0.93        28\n",
      "\n",
      "Naive Bayes Confusion Matrix:\n",
      "[[14  1]\n",
      " [ 1 12]]\n"
     ]
    }
   ],
   "source": [
    "# Train a model (Multinomial Naive Bayes)\n",
    "start_time = time.time()\n",
    "model_nb = MultinomialNB()\n",
    "model_nb.fit(X_train_features, y_train)\n",
    "\n",
    "# Predict on test data\n",
    "y_pred_nb = model_nb.predict(X_test_features)\n",
    "\n",
    "# Evaluate the model\n",
    "accuracy_nb = accuracy_score(y_test, y_pred_nb)\n",
    "error_rate_nb = 1 - accuracy_nb\n",
    "conf_matrix_nb = confusion_matrix(y_test, y_pred_nb)\n",
    "classification_report_nb = classification_report(y_test, y_pred_nb)\n",
    "execution_time_nb = time.time() - start_time\n",
    "\n",
    "print(f\"Multinomial Naive Bayes Accuracy: {accuracy_nb}\")\n",
    "print(f\"Multinomial Naive Bayes Error Rate: {error_rate_nb}\")\n",
    "print(f\"Multinomial Naive Bayes Execution Time: {execution_time_nb} seconds\")\n",
    "print(\"Multinomial Naive Bayes Classification Report:\")\n",
    "print(classification_report_nb)\n",
    "print(\"Multinomial Naive Bayes Confusion Matrix:\")\n",
    "print(conf_matrix_nb)\n"
   ]
  },
  {
   "cell_type": "code",
   "execution_count": 20,
   "metadata": {},
   "outputs": [
    {
     "name": "stdout",
     "output_type": "stream",
     "text": [
      "Gaussian Naive Bayes Accuracy: 0.9642857142857143\n",
      "Gaussian Naive Bayes Error Rate: 0.0357142857142857\n",
      "Gaussian Naive Bayes Execution Time: 0.02864980697631836 seconds\n",
      "Gaussian Naive Bayes Classification Report:\n",
      "              precision    recall  f1-score   support\n",
      "\n",
      "         ham       0.94      1.00      0.97        15\n",
      "        spam       1.00      0.92      0.96        13\n",
      "\n",
      "    accuracy                           0.96        28\n",
      "   macro avg       0.97      0.96      0.96        28\n",
      "weighted avg       0.97      0.96      0.96        28\n",
      "\n",
      "Gaussian Naive Bayes Confusion Matrix:\n",
      "[[15  0]\n",
      " [ 1 12]]\n"
     ]
    }
   ],
   "source": [
    "# Train a model (Gaussian Naive Bayes)\n",
    "start_time = time.time()\n",
    "model_gnb = GaussianNB()\n",
    "model_gnb.fit(X_train_features.toarray(), y_train)\n",
    "\n",
    "# Predict on test data\n",
    "y_pred_gnb = model_gnb.predict(X_test_features.toarray())\n",
    "\n",
    "# Evaluate the model\n",
    "accuracy_gnb = accuracy_score(y_test, y_pred_gnb)\n",
    "error_rate_gnb = 1 - accuracy_gnb\n",
    "conf_matrix_gnb = confusion_matrix(y_test, y_pred_gnb)\n",
    "classification_report_gnb = classification_report(y_test, y_pred_gnb)\n",
    "execution_time_gnb = time.time() - start_time\n",
    "\n",
    "print(f\"Gaussian Naive Bayes Accuracy: {accuracy_gnb}\")\n",
    "print(f\"Gaussian Naive Bayes Error Rate: {error_rate_gnb}\")\n",
    "print(f\"Gaussian Naive Bayes Execution Time: {execution_time_gnb} seconds\")\n",
    "print(\"Gaussian Naive Bayes Classification Report:\")\n",
    "print(classification_report_gnb)\n",
    "print(\"Gaussian Naive Bayes Confusion Matrix:\")\n",
    "print(conf_matrix_gnb)\n"
   ]
  },
  {
   "cell_type": "code",
   "execution_count": 21,
   "metadata": {},
   "outputs": [
    {
     "name": "stdout",
     "output_type": "stream",
     "text": [
      "Decision Tree (J48) Accuracy: 0.8928571428571429\n",
      "Decision Tree (J48) Error Rate: 0.1071428571428571\n",
      "Decision Tree (J48) Execution Time: 0.02892780303955078 seconds\n",
      "Decision Tree (J48) Classification Report:\n",
      "              precision    recall  f1-score   support\n",
      "\n",
      "         ham       1.00      0.80      0.89        15\n",
      "        spam       0.81      1.00      0.90        13\n",
      "\n",
      "    accuracy                           0.89        28\n",
      "   macro avg       0.91      0.90      0.89        28\n",
      "weighted avg       0.91      0.89      0.89        28\n",
      "\n",
      "Decision Tree (J48) Confusion Matrix:\n",
      "[[12  3]\n",
      " [ 0 13]]\n"
     ]
    }
   ],
   "source": [
    "# Train a model (Decision Tree)\n",
    "start_time = time.time()\n",
    "model_j48 = DecisionTreeClassifier(random_state=42)\n",
    "model_j48.fit(X_train_features, y_train)\n",
    "\n",
    "# Predict on test data\n",
    "y_pred_j48 = model_j48.predict(X_test_features)\n",
    "\n",
    "# Evaluate the model\n",
    "accuracy_j48 = accuracy_score(y_test, y_pred_j48)\n",
    "error_rate_j48 = 1 - accuracy_j48\n",
    "conf_matrix_j48 = confusion_matrix(y_test, y_pred_j48)\n",
    "classification_report_j48 = classification_report(y_test, y_pred_j48)\n",
    "execution_time_j48 = time.time() - start_time\n",
    "\n",
    "print(f\"Decision Tree (J48) Accuracy: {accuracy_j48}\")\n",
    "print(f\"Decision Tree (J48) Error Rate: {error_rate_j48}\")\n",
    "print(f\"Decision Tree (J48) Execution Time: {execution_time_j48} seconds\")\n",
    "print(\"Decision Tree (J48) Classification Report:\")\n",
    "print(classification_report_j48)\n",
    "print(\"Decision Tree (J48) Confusion Matrix:\")\n",
    "print(conf_matrix_j48)\n"
   ]
  },
  {
   "cell_type": "code",
   "execution_count": 22,
   "metadata": {},
   "outputs": [
    {
     "name": "stdout",
     "output_type": "stream",
     "text": [
      "              Algorithm  Accuracy  Error Rate  Execution Time (s)\n",
      "0           Naive Bayes  0.928571    0.071429            0.024151\n",
      "1  Gaussian Naive Bayes  0.964286    0.035714            0.028650\n",
      "2   Decision Tree (J48)  0.892857    0.107143            0.028928\n"
     ]
    }
   ],
   "source": [
    "results = pd.DataFrame({\n",
    "    \"Algorithm\": [\"Multinomial Naive Bayes\", \"Gaussian Naive Bayes\", \"Decision Tree (J48)\"],\n",
    "    \"Accuracy\": [accuracy_nb, accuracy_gnb, accuracy_j48],\n",
    "    \"Error Rate\": [error_rate_nb, error_rate_gnb, error_rate_j48],\n",
    "    \"Execution Time (s)\": [execution_time_nb, execution_time_gnb, execution_time_j48]\n",
    "})\n",
    "\n",
    "print(results)\n"
   ]
  }
 ],
 "metadata": {
  "kernelspec": {
   "display_name": "Python 3",
   "language": "python",
   "name": "python3"
  },
  "language_info": {
   "codemirror_mode": {
    "name": "ipython",
    "version": 3
   },
   "file_extension": ".py",
   "mimetype": "text/x-python",
   "name": "python",
   "nbconvert_exporter": "python",
   "pygments_lexer": "ipython3",
   "version": "3.11.4"
  }
 },
 "nbformat": 4,
 "nbformat_minor": 2
}
